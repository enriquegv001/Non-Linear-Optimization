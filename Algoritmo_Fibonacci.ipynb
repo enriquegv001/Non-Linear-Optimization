{
 "cells": [
  {
   "cell_type": "code",
   "execution_count": 1,
   "id": "193beba0",
   "metadata": {},
   "outputs": [],
   "source": [
    "fib = [1,1,2,3,5,8,13,21]\n",
    "\n",
    "def alg_fibonacci(intervalo, delta, e, f):\n",
    "    a = intervalo[0]\n",
    "    b = intervalo[1]\n",
    "    L = b-a\n",
    "    fib = [1,1,2,3,5,8,13,21]\n",
    "    n = 0\n",
    "    while L < fib[n+1]*delta - fib[n-1]*e:\n",
    "        n += 1\n",
    "        \n",
    "    x1 = a +( fib[n-1] / fib[n+1] )*L\n",
    "    x2 = a +( fib[n] / fib[n+1] )*L\n",
    "    \n",
    "    f1 = f(x1)\n",
    "    f2 = f(x2)\n",
    "    \n",
    "    if f1 > f2:\n",
    "        intervalo[1] = x2\n",
    "        \n",
    "    elif f1 < f2:\n",
    "        intervalo[0] = x1\n",
    "        \n",
    "    else:\n",
    "        intervalo[0] = x1\n",
    "        intervalo[1] = x2\n",
    "        \n",
    "    while n >= 3:\n",
    "        n-=1\n",
    "        if f1 > f2:\n",
    "            intervalo[1] = x2\n",
    "        \n",
    "        elif f1 < f2:\n",
    "            intervalo[0] = x1\n",
    "\n",
    "        else:\n",
    "            intervalo[0] = x1\n",
    "            intervalo[1] = x2\n",
    "            \n",
    "        print('x1 = {}, x2 = {}'.format(x1, x2) )\n",
    "        f1 = f(x1)\n",
    "        f2 = f(x2)\n",
    "        print('f1 = {}, f2 = {}'.format(f1, f2) )\n",
    "    \n",
    "    a = intervalo[0]\n",
    "    b = intervalo[1]\n",
    "    L = b-a\n",
    "    \n",
    "    x1 = a + (L / 2 - e)\n",
    "    x2 = a + L / 2\n",
    "    return x1, x2"
   ]
  },
  {
   "cell_type": "code",
   "execution_count": 17,
   "id": "22ea4acb",
   "metadata": {},
   "outputs": [
    {
     "data": {
      "text/plain": [
       "(6.49, 6.5)"
      ]
     },
     "execution_count": 17,
     "metadata": {},
     "output_type": "execute_result"
    }
   ],
   "source": [
    "f = lambda x: (x**4) - 15 *(x**3) - 72*(x**2) +1135*x \n",
    "intervalo = [1,12]\n",
    "delta = 0.1\n",
    "e = 10*(10**-3)\n",
    "alg_fibonacci(intervalo, delta, e, f)"
   ]
  },
  {
   "cell_type": "code",
   "execution_count": 3,
   "id": "4a350905",
   "metadata": {},
   "outputs": [],
   "source": [
    "r = lambda x: x**2"
   ]
  },
  {
   "cell_type": "code",
   "execution_count": 4,
   "id": "de04ca18",
   "metadata": {},
   "outputs": [
    {
     "data": {
      "text/plain": [
       "4"
      ]
     },
     "execution_count": 4,
     "metadata": {},
     "output_type": "execute_result"
    }
   ],
   "source": [
    "r(2)"
   ]
  },
  {
   "attachments": {},
   "cell_type": "markdown",
   "id": "f4b53b8d",
   "metadata": {},
   "source": [
    "### Método de la sección dorada"
   ]
  },
  {
   "cell_type": "code",
   "execution_count": 22,
   "id": "591c3418",
   "metadata": {},
   "outputs": [],
   "source": [
    "fib = [1,1,2,3,5,8,13,21]\n",
    "\n",
    "def alg_fibonacci(intervalo, delta, e, f, met_dorado = None):\n",
    "    a = intervalo[0]\n",
    "    b = intervalo[1]\n",
    "    L = b-a\n",
    "    fib = [1,1,2,3,5,8,13,21]\n",
    "    n = 0\n",
    "\n",
    "    if met_dorado == None: #falta completar el fibonacci para que este bien\n",
    "        while L < fib[n+1]*delta - fib[n-1]*e: # L < delata\n",
    "            n += 1\n",
    "            \n",
    "        x1 = a +( fib[n-1] / fib[n+1] )*L\n",
    "        x2 = a +( fib[n] / fib[n+1] )*L\n",
    "    \n",
    "    elif met_dorado == True: #falta que quede bien el método dorado \n",
    "        while L < delta:\n",
    "            n += 1\n",
    "            \n",
    "        x1 = a +( fib[n-1] / fib[n+1] )*L\n",
    "        x2 = a +( fib[n] / fib[n+1] )*L\n",
    "    \n",
    "    f1 = f(x1)\n",
    "    f2 = f(x2)\n",
    "    \n",
    "    if f1 > f2:\n",
    "        intervalo[1] = x2\n",
    "        \n",
    "    elif f1 < f2:\n",
    "        intervalo[0] = x1\n",
    "        \n",
    "    else:\n",
    "        intervalo[0] = x1\n",
    "        intervalo[1] = x2\n",
    "        \n",
    "    while n >= 3:\n",
    "        n-=1\n",
    "        if f1 > f2:\n",
    "            intervalo[1] = x2\n",
    "        \n",
    "        elif f1 < f2:\n",
    "            intervalo[0] = x1\n",
    "\n",
    "        else:\n",
    "            intervalo[0] = x1\n",
    "            intervalo[1] = x2\n",
    "            \n",
    "        print('x1 = {}, x2 = {}'.format(x1, x2) )\n",
    "        f1 = f(x1)\n",
    "        f2 = f(x2)\n",
    "        print('f1 = {}, f2 = {}'.format(f1, f2) )\n",
    "    \n",
    "    a = intervalo[0]\n",
    "    b = intervalo[1]\n",
    "    L = b-a\n",
    "    \n",
    "    x1 = a + (L / 2 - e)\n",
    "    x2 = a + L / 2\n",
    "    return x1, x2"
   ]
  },
  {
   "cell_type": "code",
   "execution_count": 25,
   "metadata": {},
   "outputs": [
    {
     "data": {
      "text/plain": [
       "(232.0, 12.0)"
      ]
     },
     "execution_count": 25,
     "metadata": {},
     "output_type": "execute_result"
    }
   ],
   "source": []
  },
  {
   "cell_type": "code",
   "execution_count": 24,
   "id": "e60e7c18",
   "metadata": {},
   "outputs": [],
   "source": [
    "fib = [1,1,2,3,5,8,13,21]\n",
    "\n",
    "def alg_fibonacci(intervalo, delta, e, f, met_dorado = None):\n",
    "    a = intervalo[0]\n",
    "    b = intervalo[1]\n",
    "    L = b-a\n",
    "    fib = [1,1,2,3,5,8,13,21]\n",
    "    n = 0\n",
    "\n",
    "    if met_dorado == None: #falta completar el fibonacci para que este bien\n",
    "        while L < fib[n+1]*delta - fib[n-1]*e: # L < delata\n",
    "            n += 1\n",
    "            \n",
    "        x1 = a +( fib[n-1] / fib[n+1] )*L\n",
    "        x2 = a +( fib[n] / fib[n+1] )*L\n",
    "    \n",
    "    elif met_dorado == True: #falta que quede bien el método dorado \n",
    "        while L < delta:\n",
    "            n += 1\n",
    "            \n",
    "        x1 = a +( fib[n-1] / fib[n+1] )*L\n",
    "        x2 = a +( fib[n] / fib[n+1] )*L\n",
    "    \n",
    "    f1 = f(x1)\n",
    "    f2 = f(x2)\n",
    "    \n",
    "    if f1 > f2:\n",
    "        intervalo[1] = x2\n",
    "        \n",
    "    elif f1 < f2:\n",
    "        intervalo[0] = x1\n",
    "        \n",
    "    else:\n",
    "        intervalo[0] = x1\n",
    "        intervalo[1] = x2\n",
    "        \n",
    "    while n >= 3:\n",
    "        n-=1\n",
    "        if f1 > f2:\n",
    "            intervalo[1] = x2\n",
    "        \n",
    "        elif f1 < f2:\n",
    "            intervalo[0] = x1\n",
    "\n",
    "        else:\n",
    "            intervalo[0] = x1\n",
    "            intervalo[1] = x2\n",
    "            \n",
    "        print('x1 = {}, x2 = {}'.format(x1, x2) )\n",
    "        f1 = f(x1)\n",
    "        f2 = f(x2)\n",
    "        print('f1 = {}, f2 = {}'.format(f1, f2) )\n",
    "    \n",
    "    a = intervalo[0]\n",
    "    b = intervalo[1]\n",
    "    L = b-a\n",
    "    \n",
    "    x1 = a +( fib[n-1] / fib[n+1] )*L\n",
    "    x2 = a +( fib[n] / fib[n+1] )*L\n",
    "    return x1, x2"
   ]
  },
  {
   "cell_type": "code",
   "execution_count": 26,
   "id": "3a7293a6",
   "metadata": {},
   "outputs": [
    {
     "data": {
      "text/plain": [
       "(232.0, 12.0)"
      ]
     },
     "execution_count": 26,
     "metadata": {},
     "output_type": "execute_result"
    }
   ],
   "source": [
    "alg_fibonacci(intervalo, delta, e, f, met_dorado = True)"
   ]
  },
  {
   "attachments": {},
   "cell_type": "markdown",
   "id": "42b38841",
   "metadata": {},
   "source": [
    "### Método de variaciones cíclicas"
   ]
  },
  {
   "cell_type": "code",
   "execution_count": null,
   "id": "f58b5000",
   "metadata": {},
   "outputs": [],
   "source": []
  },
  {
   "cell_type": "code",
   "execution_count": null,
   "id": "b856f0a6",
   "metadata": {},
   "outputs": [],
   "source": []
  }
 ],
 "metadata": {
  "kernelspec": {
   "display_name": "Python 3 (ipykernel)",
   "language": "python",
   "name": "python3"
  },
  "language_info": {
   "codemirror_mode": {
    "name": "ipython",
    "version": 3
   },
   "file_extension": ".py",
   "mimetype": "text/x-python",
   "name": "python",
   "nbconvert_exporter": "python",
   "pygments_lexer": "ipython3",
   "version": "3.10.5"
  }
 },
 "nbformat": 4,
 "nbformat_minor": 5
}
